{
 "cells": [
  {
   "cell_type": "code",
   "execution_count": null,
   "metadata": {},
   "outputs": [],
   "source": [
    "!pip install -q gradio "
   ]
  },
  {
   "cell_type": "code",
   "execution_count": null,
   "metadata": {},
   "outputs": [],
   "source": [
    "import gradio as gr\n",
    "import os\n",
    "\n",
    "# save your HF API token from https:/hf.co/settings/tokens as an env variable to avoid rate limiting\n",
    "auth_token = os.getenv(\"auth_token\")\n",
    "\n",
    "# automatically load the interface from a HF model \n",
    "# you can remove the api_key parameter if you don't care about rate limiting. \n",
    "demo = gr.Interface.load(\n",
    "    \"huggingface/facebook/wav2vec2-base-960h\",\n",
    "    title=\"Speech-to-text\",\n",
    "    inputs=\"mic\",\n",
    "    description=\"Let me try to guess what you're saying!\",\n",
    "    api_key=auth_token\n",
    ")\n",
    "\n",
    "demo.launch()\n"
   ]
  }
 ],
 "metadata": {
  "language_info": {
   "name": "python"
  },
  "orig_nbformat": 4
 },
 "nbformat": 4,
 "nbformat_minor": 2
}

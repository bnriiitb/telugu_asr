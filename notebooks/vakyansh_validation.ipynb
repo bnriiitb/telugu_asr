{
 "cells": [
  {
   "cell_type": "code",
   "execution_count": 1,
   "id": "0d0a4312-a1c3-4bd3-99c7-7340b622dd77",
   "metadata": {},
   "outputs": [
    {
     "name": "stderr",
     "output_type": "stream",
     "text": [
      "/raid/cs20mds14030/miniconda3/envs/telugu_asr/lib/python3.8/site-packages/tqdm/auto.py:22: TqdmWarning: IProgress not found. Please update jupyter and ipywidgets. See https://ipywidgets.readthedocs.io/en/stable/user_install.html\n",
      "  from .autonotebook import tqdm as notebook_tqdm\n"
     ]
    }
   ],
   "source": [
    "from transformers import AutoProcessor, AutoModelForCTC\n",
    "processor = AutoProcessor.from_pretrained(\"Harveenchadha/vakyansh-wav2vec2-telugu-tem-100\")\n",
    "model = AutoModelForCTC.from_pretrained(\"Harveenchadha/vakyansh-wav2vec2-telugu-tem-100\")"
   ]
  },
  {
   "cell_type": "code",
   "execution_count": 2,
   "id": "31d1f726-cc20-412a-8e17-4a1079afba00",
   "metadata": {},
   "outputs": [],
   "source": [
    "import numpy as np\n",
    "import pandas as pd\n",
    "import os\n",
    "from IPython import display\n",
    "import datasets\n",
    "from datasets.info import DatasetInfosDict\n",
    "from datasets import load_dataset,concatenate_datasets, DatasetDict, Dataset, Audio\n",
    "import torch"
   ]
  },
  {
   "cell_type": "code",
   "execution_count": 3,
   "id": "6861552f-f7e5-4280-ba17-9d7cba9f8044",
   "metadata": {},
   "outputs": [
    {
     "name": "stderr",
     "output_type": "stream",
     "text": [
      "Found cached dataset fleurs (/raid/cs20mds14030/.cache/huggingface/datasets/google___fleurs/te_in/2.0.0/aabb39fb29739c495517ac904e2886819b6e344702f0a5b5283cb178b087c94a)\n"
     ]
    },
    {
     "data": {
      "text/plain": [
       "Dataset({\n",
       "    features: ['path', 'audio', 'text'],\n",
       "    num_rows: 472\n",
       "})"
      ]
     },
     "execution_count": 3,
     "metadata": {},
     "output_type": "execute_result"
    }
   ],
   "source": [
    "fleurs_dataset = load_dataset(\"google/fleurs\", \"te_in\", split=\"test\",num_proc=32)\n",
    "fleurs_dataset = fleurs_dataset.rename_column(\"transcription\", \"text\")\n",
    "fleurs_dataset = fleurs_dataset.cast_column(\"audio\",Audio(sampling_rate=16000))\n",
    "fleurs_dataset = fleurs_dataset.remove_columns(['id', 'num_samples', 'raw_transcription', 'gender', 'lang_id', 'language', 'lang_group_id'])\n",
    "fleurs_dataset"
   ]
  },
  {
   "cell_type": "code",
   "execution_count": 4,
   "id": "82118752-843a-4e86-80ea-45c84803b1b1",
   "metadata": {},
   "outputs": [],
   "source": [
    "sampling_rate = fleurs_dataset.features[\"audio\"].sampling_rate"
   ]
  },
  {
   "cell_type": "code",
   "execution_count": 30,
   "id": "9d76db19-1528-4f47-9ce6-0a9a04fcae1a",
   "metadata": {},
   "outputs": [],
   "source": [
    "def transcribe(audio_array):\n",
    "    inputs = processor(audio_array, sampling_rate=sampling_rate, return_tensors=\"pt\")\n",
    "    with torch.no_grad():\n",
    "        logits = model(**inputs).logits\n",
    "    predicted_ids = torch.argmax(logits, dim=-1)\n",
    "\n",
    "    # transcribe speech\n",
    "    transcription = processor.batch_decode(predicted_ids)\n",
    "    transcription = transcription[0].replace(\"<s>\",\"\")\n",
    "    return transcription"
   ]
  },
  {
   "cell_type": "code",
   "execution_count": 54,
   "id": "acda5e90-a41a-4cf4-be21-e19b52be2b55",
   "metadata": {},
   "outputs": [
    {
     "data": {
      "text/plain": [
       "{'path': '7038975664927295261.wav',\n",
       " 'array': array([0.        , 0.        , 0.        , ..., 0.00052094, 0.00167996,\n",
       "        0.00159758]),\n",
       " 'sampling_rate': 16000}"
      ]
     },
     "execution_count": 54,
     "metadata": {},
     "output_type": "execute_result"
    }
   ],
   "source": [
    "fleurs_dataset['audio'][0]"
   ]
  },
  {
   "cell_type": "code",
   "execution_count": 60,
   "id": "6b680ca3-cb37-4a81-90c4-ff647fc233df",
   "metadata": {},
   "outputs": [
    {
     "name": "stderr",
     "output_type": "stream",
     "text": [
      "100%|████████████████████████████████████████████████████████████████████████████████████████████████| 2/2 [00:00<00:00,  6.04it/s]\n"
     ]
    },
    {
     "data": {
      "text/plain": [
       "['రెండవ సెట్లో డెల్పోట్రో్ ఆధిక్యం లభించినా కూడా ఈ సెట్లో కూడా ఆరు ఆర్మించి ఆరుకి చేరుకున్న తర్వాత డైబ్రేక్ అని వార్యం అయ్యింది ',\n",
       " 'హాజరైన వారి సంఖ్య ఎంత ఎక్కువ అంటే సైన్పీటర్ స్క్వేర్ లో జరిగిన అంత్క్రియలను చూడడానికి అందరికీ సాధ్యపడలేదు ']"
      ]
     },
     "execution_count": 60,
     "metadata": {},
     "output_type": "execute_result"
    }
   ],
   "source": [
    "from tqdm import tqdm\n",
    "vakyansh_texts = []\n",
    "for item in tqdm(fleurs_dataset['audio']):\n",
    "    vakyansh_texts.append(transcribe(item['array']))\n",
    "vakyansh_texts"
   ]
  },
  {
   "cell_type": "code",
   "execution_count": 62,
   "id": "c85be1c6-a53b-4ff5-a44e-bdbcc25f3468",
   "metadata": {},
   "outputs": [
    {
     "name": "stdout",
     "output_type": "stream",
     "text": [
      "53.333333333333336\n"
     ]
    }
   ],
   "source": [
    "import evaluate\n",
    "metric = evaluate.load(\"wer\")\n",
    "vakyansh_wer = 100 * metric.compute(predictions=vakyansh_texts, references=fleurs_dataset['text'])\n",
    "print(vakyansh_wer)"
   ]
  }
 ],
 "metadata": {
  "kernelspec": {
   "display_name": "Python 3 (ipykernel)",
   "language": "python",
   "name": "python3"
  },
  "language_info": {
   "codemirror_mode": {
    "name": "ipython",
    "version": 3
   },
   "file_extension": ".py",
   "mimetype": "text/x-python",
   "name": "python",
   "nbconvert_exporter": "python",
   "pygments_lexer": "ipython3",
   "version": "3.8.15"
  }
 },
 "nbformat": 4,
 "nbformat_minor": 5
}
